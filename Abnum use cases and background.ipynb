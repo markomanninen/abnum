{
 "metadata": {
  "name": "",
  "signature": "sha256:e4c313fc5a56c2718a00fd88f3cb51c8ca7aafeab467c90334acbbf915340931"
 },
 "nbformat": 3,
 "nbformat_minor": 0,
 "worksheets": [
  {
   "cells": [
    {
     "cell_type": "markdown",
     "metadata": {},
     "source": [
      "# Abnum\n",
      "\n",
      "Abnum is an alphabetic numerals python package/library including various letter value substituting systems from ancient times to modern artificial ones.\n",
      "\n",
      "Currently supported scripts are: **greek** (ancient), **hebrew** and **english**. Planned is a support for arabic, coptic, sanskrit and ethiopian scripts. Some of the systems have been referred with certain name and methodology in the past, these include:\n",
      "\n",
      "1. greek -> [isopsephy](http://en.wikipedia.org/wiki/Isopsephy)\n",
      "2. hebrew -> [gematria](http://en.wikipedia.org/wiki/Gematria)\n",
      "3. arabig -> [abjad](http://en.wikipedia.org/wiki/Abjad_numerals)\n",
      "4. sanskrit -> [katapayadi](http://en.wikipedia.org/wiki/Katapayadi_system)\n",
      "\n",
      "But since not all languages have specific name for this literary device and because of purely recreational purposes I decided to put all systems under same generic library.\n",
      "\n",
      "Many languages have acrophonic (not alphabetic) numerals also. Most well known perhaps are roman numbers: I, V, X, L, C, D, M. Greeks had Attic (also called Herodianic) numerals, but any of these should not be confuced with alphabetic numerals implemented on Abnum library.\n",
      "\n",
      "## Usage\n",
      "\n",
      "Import Abnum class and scripts from the abnum package:"
     ]
    },
    {
     "cell_type": "code",
     "collapsed": false,
     "input": [
      "from abnum import Abnum, greek, hebrew, english"
     ],
     "language": "python",
     "metadata": {},
     "outputs": [],
     "prompt_number": 1
    },
    {
     "cell_type": "markdown",
     "metadata": {},
     "source": [
      "Initialize abnum object which holds all main functionality for alphabet numeral value calculation:"
     ]
    },
    {
     "cell_type": "code",
     "collapsed": false,
     "input": [
      "g = Abnum(greek)\n",
      "phrase = '\u03bf \u039b\u03bf\u03b3\u03bf\u03c2'\n",
      "print phrase, (g.convert(phrase), g.value(phrase))"
     ],
     "language": "python",
     "metadata": {},
     "outputs": [
      {
       "output_type": "stream",
       "stream": "stdout",
       "text": [
        "\u03bf \u039b\u03bf\u03b3\u03bf\u03c2 ('o Logos', 443)\n"
       ]
      }
     ],
     "prompt_number": 2
    },
    {
     "cell_type": "markdown",
     "metadata": {},
     "source": [
      "Thus we can see that \u03bf \u039b\u03bf\u03b3\u03bf\u03c2 (the Word, philosophical/theological concept) is transliterated to 'o Logos' and its alphabetic numeral value (or isopsephic value in this case of greek example) is 443.\n",
      "\n",
      "Abnum uses [romanize](https://github.com/markomanninen/romanize) transliteration module for converting a script to roman letters. But is also works other way around. You can get a greek script presentation of the word as well:"
     ]
    },
    {
     "cell_type": "code",
     "collapsed": false,
     "input": [
      "print g.convert('o Logos')"
     ],
     "language": "python",
     "metadata": {},
     "outputs": [
      {
       "output_type": "stream",
       "stream": "stdout",
       "text": [
        "\u03bf \u039b\u03bf\u03b3\u03bf\u03c3\n"
       ]
      }
     ],
     "prompt_number": 3
    },
    {
     "cell_type": "markdown",
     "metadata": {},
     "source": [
      "Some of the scripts have capital letters and some doesn't. This is affected on the functioning in a way that \n",
      "for example in greek and english small and capital letters have same value and their form is reserved on conversion."
     ]
    },
    {
     "cell_type": "code",
     "collapsed": false,
     "input": [
      "print g.convert('GAIOS IOYLIOS KAISAR'), ',', \\\n",
      "      g.convert('GAIOS IOYLIOS KAISAR'.title())"
     ],
     "language": "python",
     "metadata": {},
     "outputs": [
      {
       "output_type": "stream",
       "stream": "stdout",
       "text": [
        "\u0393\u0391\u0399\u039f\u03a3 \u0399\u039f\u03a8\u039b\u0399\u039f\u03a3 \u039a\u0391\u0399\u03a3\u0391\u03a1 , \u0393\u03b1\u03b9\u03bf\u03c3 \u0399\u03bf\u03c8\u03bb\u03b9\u03bf\u03c3 \u039a\u03b1\u03b9\u03c3\u03b1\u03c1\n"
       ]
      }
     ],
     "prompt_number": 4
    },
    {
     "cell_type": "markdown",
     "metadata": {},
     "source": [
      "But scripts like hebrew doesn't have separate small or capital letters. Transliteration module in this case have special meaning on capital letters and their numerical value is not same with small letters. Capital \"M\" has a value 600 and small \"m\" 40 in hebrew gematria. Big letter are used as final letters as described by ancient \"[Mispar gadol](http://en.wikipedia.org/wiki/Gematria#Values_table)\" method of gematria. See the difference of spelling and value for the Hebrew word God:"
     ]
    },
    {
     "cell_type": "code",
     "collapsed": false,
     "input": [
      "h = Abnum(hebrew)\n",
      "print h.value('alhiM'), h.convert('alhiM')\n",
      "print h.value('alhim'), h.convert('alhim')"
     ],
     "language": "python",
     "metadata": {},
     "outputs": [
      {
       "output_type": "stream",
       "stream": "stdout",
       "text": [
        "649 \u05d0\u05dc\u05d7\u05d9\u05dd\n",
        "89 \u05d0\u05dc\u05d7\u05d9\u05de\n"
       ]
      }
     ],
     "prompt_number": 5
    },
    {
     "cell_type": "markdown",
     "metadata": {},
     "source": [
      "Value conversion is made by default mapping, but in some cases (either because of using different letter value mapping from the various traditions or artificial one for tests) you may want to provide your own mapping. Take for example default english data mapping provided (Marty Leeds) which is:"
     ]
    },
    {
     "cell_type": "code",
     "collapsed": false,
     "input": [
      "e1 = Abnum(english)\n",
      "print e1.data"
     ],
     "language": "python",
     "metadata": {},
     "outputs": [
      {
       "output_type": "stream",
       "stream": "stdout",
       "text": [
        "([1, 'a'], [2, 'b'], [3, 'c'], [4, 'd'], [5, 'e'], [6, 'f'], [7, 'g'], [6, 'h'], [5, 'i'], [4, 'j'], [3, 'k'], [2, 'l'], [1, 'm'], [1, 'n'], [2, 'o'], [3, 'p'], [4, 'q'], [5, 'r'], [6, 's'], [7, 't'], [6, 'u'], [5, 'v'], [4, 'w'], [3, 'x'], [2, 'y'], [1, 'z'])\n"
       ]
      }
     ],
     "prompt_number": 6
    },
    {
     "cell_type": "markdown",
     "metadata": {},
     "source": [
      "But in english script, there are several [different mappings](http://www.gematrix.org/gematria.php#english_gematria), which you could use instead. So let's see one example:"
     ]
    },
    {
     "cell_type": "code",
     "collapsed": false,
     "input": [
      "word = \"the key\"\n",
      "print \"Using a default english mapping and getting a value for the word: '%s' = %s\" % (word, e1.value(word))\n",
      "# defining custom mapping, simple english gematria\n",
      "mapping = ([1,  'a'], [2,  'b'], [3,  'c'], [4,  'd'], [5,  'e'], [6,  'f'], [7,  'g'], [8,  'h'], [9, 'i'], \n",
      "           [10, 'j'], [11, 'k'], [12, 'l'], [13, 'm'], [14, 'n'], [15, 'o'], [16, 'p'], [17, 'q'], [18, 'r'], \n",
      "           [19, 's'], [20, 't'], [21, 'u'], [22, 'v'], [23, 'w'], [24, 'x'], [25, 'y'], [26, 'z'])\n",
      "e2 = Abnum(english, mapping) # must exclude all other letters to prevent exception...\n",
      "print \"Using a custom  english mapping and getting a value for the word: '%s' = %s\" % (word, e2.value(word))"
     ],
     "language": "python",
     "metadata": {},
     "outputs": [
      {
       "output_type": "stream",
       "stream": "stdout",
       "text": [
        "Using a default english mapping and getting a value for the word: 'the key' = 28\n",
        "Using a custom  english mapping and getting a value for the word: 'the key' = 74\n"
       ]
      }
     ],
     "prompt_number": 7
    },
    {
     "cell_type": "markdown",
     "metadata": {},
     "source": [
      "Other useful feature from romanize module is implemented by preprocess functionality, when special accent letters are converted to corresponding normal letters. This is because in alphabetic numerals conversion accents don't carry any special meaning. You can use prerocessing via second parameter in convert method."
     ]
    },
    {
     "cell_type": "code",
     "collapsed": false,
     "input": [
      "print g.convert('\u1f00\u03b4\u03b5\u03bb\u03c6\u03ad, \u03b2\u03bf\u03ae\u03b8\u03b5\u03b9', True)"
     ],
     "language": "python",
     "metadata": {},
     "outputs": [
      {
       "output_type": "stream",
       "stream": "stdout",
       "text": [
        "adelfe bo\u00eahei\n"
       ]
      }
     ],
     "prompt_number": 8
    },
    {
     "cell_type": "markdown",
     "metadata": {},
     "source": [
      "Now phrase is ready for value calculation. Note that use can use transliteration version of the string for calculation as well."
     ]
    },
    {
     "cell_type": "code",
     "collapsed": false,
     "input": [
      "print g.value(g.convert('\u1f00\u03b4\u03b5\u03bb\u03c6\u03ad, \u03b2\u03bf\u03ae\u03b8\u03b5\u03b9', True)), '=', g.value('adelfe bo\u00eahei')"
     ],
     "language": "python",
     "metadata": {},
     "outputs": [
      {
       "output_type": "stream",
       "stream": "stdout",
       "text": [
        "649 = 649\n"
       ]
      }
     ],
     "prompt_number": 9
    },
    {
     "cell_type": "markdown",
     "metadata": {},
     "source": [
      "Two other methods for analyzing value of the phrases are: char_table and char_table_data. See examples below:"
     ]
    },
    {
     "cell_type": "code",
     "collapsed": false,
     "input": [
      "g.char_table('\u03bf \u039b\u03bf\u03b3\u03bf\u03c2')"
     ],
     "language": "python",
     "metadata": {},
     "outputs": [
      {
       "html": [
        "<table class=\"char-table\"><caption>\u03bf \u039b\u03bf\u03b3\u03bf\u03c2</caption><thead><tr><th>\u03bf</th><th>&nbsp;</th><th>&nbsp;</th><th>\u039b</th><th>\u03bf</th><th>\u03b3</th><th>\u03bf</th><th>\u03c2</th></tr></thead><tfoot><tr><td colspan=\"1\">70 <sub>7</sub></td><td/><td/><td colspan=\"5\">373 <sub>4</sub></td></tr><tr><td colspan=\"9\" style=\"border-top: solid 1px #ddd\">443 <sub>11 / 2</sub></td></tr></tfoot><tbody><tr><td>o</td><td/><td class=\"empty-cell\"/><td>L</td><td>o</td><td>g</td><td>o</td><td>s</td></tr><tr><td>70</td><td/><td class=\"empty-cell\"/><td>30</td><td>70</td><td>3</td><td>70</td><td>200</td></tr></tbody></table>"
       ],
       "metadata": {},
       "output_type": "pyout",
       "prompt_number": 10,
       "text": [
        "<remarkuple.table.table at 0x105417f90>"
       ]
      }
     ],
     "prompt_number": 10
    },
    {
     "cell_type": "code",
     "collapsed": false,
     "input": [
      "a, b, c = g.char_table_data('\u03bf \u039b\u03bf\u03b3\u03bf\u03c2')"
     ],
     "language": "python",
     "metadata": {},
     "outputs": [],
     "prompt_number": 11
    },
    {
     "cell_type": "code",
     "collapsed": false,
     "input": [
      "a"
     ],
     "language": "python",
     "metadata": {},
     "outputs": [
      {
       "html": [
        "<div style=\"max-height:1000px;max-width:1500px;overflow:auto;\">\n",
        "<table border=\"1\" class=\"dataframe\">\n",
        "  <thead>\n",
        "    <tr style=\"text-align: right;\">\n",
        "      <th></th>\n",
        "      <th>letter</th>\n",
        "      <th>transliteration</th>\n",
        "      <th>value</th>\n",
        "      <th>word</th>\n",
        "    </tr>\n",
        "  </thead>\n",
        "  <tbody>\n",
        "    <tr>\n",
        "      <th>0</th>\n",
        "      <td> \u03bf</td>\n",
        "      <td> o</td>\n",
        "      <td>  70</td>\n",
        "      <td>     \u03bf</td>\n",
        "    </tr>\n",
        "    <tr>\n",
        "      <th>1</th>\n",
        "      <td> \u039b</td>\n",
        "      <td> L</td>\n",
        "      <td>  30</td>\n",
        "      <td> \u039b\u03bf\u03b3\u03bf\u03c2</td>\n",
        "    </tr>\n",
        "    <tr>\n",
        "      <th>2</th>\n",
        "      <td> \u03bf</td>\n",
        "      <td> o</td>\n",
        "      <td>  70</td>\n",
        "      <td> \u039b\u03bf\u03b3\u03bf\u03c2</td>\n",
        "    </tr>\n",
        "    <tr>\n",
        "      <th>3</th>\n",
        "      <td> \u03b3</td>\n",
        "      <td> g</td>\n",
        "      <td>   3</td>\n",
        "      <td> \u039b\u03bf\u03b3\u03bf\u03c2</td>\n",
        "    </tr>\n",
        "    <tr>\n",
        "      <th>4</th>\n",
        "      <td> \u03bf</td>\n",
        "      <td> o</td>\n",
        "      <td>  70</td>\n",
        "      <td> \u039b\u03bf\u03b3\u03bf\u03c2</td>\n",
        "    </tr>\n",
        "    <tr>\n",
        "      <th>5</th>\n",
        "      <td> \u03c2</td>\n",
        "      <td> s</td>\n",
        "      <td> 200</td>\n",
        "      <td> \u039b\u03bf\u03b3\u03bf\u03c2</td>\n",
        "    </tr>\n",
        "  </tbody>\n",
        "</table>\n",
        "</div>"
       ],
       "metadata": {},
       "output_type": "pyout",
       "prompt_number": 12,
       "text": [
        "  letter transliteration  value   word\n",
        "0      \u03bf               o     70      \u03bf\n",
        "1      \u039b               L     30  \u039b\u03bf\u03b3\u03bf\u03c2\n",
        "2      \u03bf               o     70  \u039b\u03bf\u03b3\u03bf\u03c2\n",
        "3      \u03b3               g      3  \u039b\u03bf\u03b3\u03bf\u03c2\n",
        "4      \u03bf               o     70  \u039b\u03bf\u03b3\u03bf\u03c2\n",
        "5      \u03c2               s    200  \u039b\u03bf\u03b3\u03bf\u03c2"
       ]
      }
     ],
     "prompt_number": 12
    },
    {
     "cell_type": "code",
     "collapsed": false,
     "input": [
      "b"
     ],
     "language": "python",
     "metadata": {},
     "outputs": [
      {
       "html": [
        "<div style=\"max-height:1000px;max-width:1500px;overflow:auto;\">\n",
        "<table border=\"1\" class=\"dataframe\">\n",
        "  <thead>\n",
        "    <tr style=\"text-align: right;\">\n",
        "      <th></th>\n",
        "      <th>value</th>\n",
        "      <th>characters</th>\n",
        "      <th>digital_sum</th>\n",
        "      <th>digital_root</th>\n",
        "    </tr>\n",
        "    <tr>\n",
        "      <th>word</th>\n",
        "      <th></th>\n",
        "      <th></th>\n",
        "      <th></th>\n",
        "      <th></th>\n",
        "    </tr>\n",
        "  </thead>\n",
        "  <tbody>\n",
        "    <tr>\n",
        "      <th>\u039b\u03bf\u03b3\u03bf\u03c2</th>\n",
        "      <td> 373</td>\n",
        "      <td> 5</td>\n",
        "      <td> 13</td>\n",
        "      <td> 4</td>\n",
        "    </tr>\n",
        "    <tr>\n",
        "      <th>\u03bf</th>\n",
        "      <td>  70</td>\n",
        "      <td> 1</td>\n",
        "      <td>  7</td>\n",
        "      <td> 7</td>\n",
        "    </tr>\n",
        "  </tbody>\n",
        "</table>\n",
        "</div>"
       ],
       "metadata": {},
       "output_type": "pyout",
       "prompt_number": 13,
       "text": [
        "       value  characters  digital_sum  digital_root\n",
        "word                                               \n",
        "\u039b\u03bf\u03b3\u03bf\u03c2    373           5           13             4\n",
        "\u03bf         70           1            7             7"
       ]
      }
     ],
     "prompt_number": 13
    },
    {
     "cell_type": "code",
     "collapsed": false,
     "input": [
      "c"
     ],
     "language": "python",
     "metadata": {},
     "outputs": [
      {
       "html": [
        "<div style=\"max-height:1000px;max-width:1500px;overflow:auto;\">\n",
        "<table border=\"1\" class=\"dataframe\">\n",
        "  <thead>\n",
        "    <tr style=\"text-align: right;\">\n",
        "      <th></th>\n",
        "      <th>characters</th>\n",
        "      <th>digital_root</th>\n",
        "      <th>digital_sum</th>\n",
        "      <th>phrase</th>\n",
        "      <th>value</th>\n",
        "    </tr>\n",
        "  </thead>\n",
        "  <tbody>\n",
        "    <tr>\n",
        "      <th>0</th>\n",
        "      <td> 6</td>\n",
        "      <td> 2</td>\n",
        "      <td> 11</td>\n",
        "      <td> \u03bf \u039b\u03bf\u03b3\u03bf\u03c2</td>\n",
        "      <td> 443</td>\n",
        "    </tr>\n",
        "  </tbody>\n",
        "</table>\n",
        "</div>"
       ],
       "metadata": {},
       "output_type": "pyout",
       "prompt_number": 14,
       "text": [
        "   characters  digital_root  digital_sum   phrase  value\n",
        "0           6             2           11  \u03bf \u039b\u03bf\u03b3\u03bf\u03c2    443"
       ]
      }
     ],
     "prompt_number": 14
    },
    {
     "cell_type": "markdown",
     "metadata": {},
     "source": [
      "And last but not the least Abnum package supports finding number patterns from phrases with find -method. This is useful for examining possible word and phrase patterns on bigger text corpuses. And this is actually the reason why library was made in first hand. As a real historical example I will use a poem created by first and second century isopsephist, probably the father of Claudius Galen, architect Niko, who was said to have mastered this art to its extremes.\n",
      "\n",
      "\"*Helios, you allow the light to assume its spiral shape with your <br />\n",
      "swith horses, thus you have sent every day your rays to men having <br />\n",
      "completed everything, since you established the route of Sun and <br />\n",
      "(then) the never ending Earth, the outpuring Water, Air and Fire, <br />\n",
      "everything proceeds ordinally.*\"\n",
      "\n",
      "Let's Abnum library calculate the value of the each line (in greek) and then find number patterns that were in the mind of original authors. Original artifact available in the Museum of Pergamum has second part of the poem broken, but ifrst part is fully reconstructed here:"
     ]
    },
    {
     "cell_type": "code",
     "collapsed": false,
     "input": [
      "ss = [\"\u0391\u0399\u039b\u0399\u039f\u03a5 \u039d\u0395\u0399\u039a\u03a9\u039d\u039f\u03a3 \u30fb \u1ea0\u03a8\u039a\u03da \u30fb \u0391\u03a1\u03a7\u0399\u03a4\u0395\u039a\u03a4\u039f\u039d\u039f\u03a3\",\n",
      "      \"\u0397\u039b\u0399\u0395 \u0398\u039f\u0391\u0399\u03a3 \u0399\u03a0\u03a0\u039f\u0399\u03a3\u0399\u039d \u0395\u0399\u039b\u0399\u03a3\u03a3\u03a9\u039d \u03a6\u039b\u039f\u0393\u0391\",\n",
      "      \"\u03a9\u03a3 \u03a0\u0391\u039d\u03a4\u0395\u039b\u0397 \u0398\u039d\u0397\u03a4\u039f\u0399\u03a3\u0399 \u03a4\u0397 \u03a4\u039f\u03a4\u0395 \u0393 \u0397\u039c\u0395\u03a1\u0391\",\n",
      "      \"\u0391\u039a\u03a4\u0395\u0399\u039d\u0391\u03a3 \u0395\u03a6\u0397\u039a\u0391\u03a3 \u0398\u0395\u039c\u0395\u039d\u039f\u03a3 \u0397\u039b\u0399\u039f\u03a5 \u0394\u03a1\u039f\u039c\u039f\u03a5\u03a3\",\n",
      "      \"\u039a\u0391\u0399 \u03a4\u0397\u039d \u0391\u03a0\u0395\u0399\u03a1\u039f\u039d \u0393\u0391\u0399\u0391\u039d \u0397\u0394\u0395 \u03a5\u0393\u03a1\u039f\u03a5 \u03a7\u03a5\u03a3\u0395\u0399\u03a3\",\n",
      "      \"\u0391\u0395\u03a1\u0391 \u03a4\u0395 \u039a\u0391\u0399 \u03a0\u03a5\u03a1 \u0395\u039d \u03a4\u0391\u039e\u0395\u0399 \u03a6\u039f\u03a1\u039f\u03a5\u039c\u0395\u039d\u0391\",\n",
      "      \"\u1e42\u0116\"]\n",
      "\n",
      "for s in ss:\n",
      "    print g.value(g.preprocess(s)), s\n",
      "\n",
      "s = g.preprocess(' '.join(ss))\n",
      "\n",
      "print \"Total value: %s\" % g.value(s)\n",
      "\n",
      "v1 = 1726\n",
      "v2 = 15000\n",
      "\n",
      "print \"\"\n",
      "print \"Find phrases with a value %s and %s:\" % (v1, v2)\n",
      "print \"\"\n",
      "for x in g.find(s, v1, True):\n",
      "    print v1, x\n",
      "print \"\"\n",
      "for x in g.find(s, v2, True):\n",
      "    print v2, x"
     ],
     "language": "python",
     "metadata": {},
     "outputs": [
      {
       "output_type": "stream",
       "stream": "stdout",
       "text": [
        "5178 \u0391\u0399\u039b\u0399\u039f\u03a5 \u039d\u0395\u0399\u039a\u03a9\u039d\u039f\u03a3 \u30fb \u1ea0\u03a8\u039a\u03da \u30fb \u0391\u03a1\u03a7\u0399\u03a4\u0395\u039a\u03a4\u039f\u039d\u039f\u03a3\n",
        "2762 \u0397\u039b\u0399\u0395 \u0398\u039f\u0391\u0399\u03a3 \u0399\u03a0\u03a0\u039f\u0399\u03a3\u0399\u039d \u0395\u0399\u039b\u0399\u03a3\u03a3\u03a9\u039d \u03a6\u039b\u039f\u0393\u0391\n",
        "3271 \u03a9\u03a3 \u03a0\u0391\u039d\u03a4\u0395\u039b\u0397 \u0398\u039d\u0397\u03a4\u039f\u0399\u03a3\u0399 \u03a4\u0397 \u03a4\u039f\u03a4\u0395 \u0393 \u0397\u039c\u0395\u03a1\u0391\n",
        "3102 \u0391\u039a\u03a4\u0395\u0399\u039d\u0391\u03a3 \u0395\u03a6\u0397\u039a\u0391\u03a3 \u0398\u0395\u039c\u0395\u039d\u039f\u03a3 \u0397\u039b\u0399\u039f\u03a5 \u0394\u03a1\u039f\u039c\u039f\u03a5\u03a3\n",
        "3175 \u039a\u0391\u0399 \u03a4\u0397\u039d \u0391\u03a0\u0395\u0399\u03a1\u039f\u039d \u0393\u0391\u0399\u0391\u039d \u0397\u0394\u0395 \u03a5\u0393\u03a1\u039f\u03a5 \u03a7\u03a5\u03a3\u0395\u0399\u03a3\n",
        "2690 \u0391\u0395\u03a1\u0391 \u03a4\u0395 \u039a\u0391\u0399 \u03a0\u03a5\u03a1 \u0395\u039d \u03a4\u0391\u039e\u0395\u0399 \u03a6\u039f\u03a1\u039f\u03a5\u039c\u0395\u039d\u0391\n",
        "15000 \u1e42\u0116\n",
        "Total value: 35178\n",
        "\n",
        "Find phrases with a value 1726 and 15000:\n",
        "\n",
        "1726 \u0391\u0399\u039b\u0399\u039f\u03a5 \u039d\u0395\u0399\u039a\u03a9\u039d\u039f\u03a3\n",
        "1726 \u1ea0\u03a8\u039a\u03da\n",
        "1726 \u0391\u03a1\u03a7\u0399\u03a4\u0395\u039a\u03a4\u039f\u039d\u039f\u03a3\n",
        "\n",
        "15000 \u0397\u039b\u0399\u0395 \u0398\u039f\u0391\u0399\u03a3 \u0399\u03a0\u03a0\u039f\u0399\u03a3\u0399\u039d \u0395\u0399\u039b\u0399\u03a3\u03a3\u03a9\u039d \u03a6\u039b\u039f\u0393\u0391 \u03a9\u03a3 \u03a0\u0391\u039d\u03a4\u0395\u039b\u0397 \u0398\u039d\u0397\u03a4\u039f\u0399\u03a3\u0399 \u03a4\u0397 \u03a4\u039f\u03a4\u0395 \u0393 \u0397\u039c\u0395\u03a1\u0391 \u0391\u039a\u03a4\u0395\u0399\u039d\u0391\u03a3 \u0395\u03a6\u0397\u039a\u0391\u03a3 \u0398\u0395\u039c\u0395\u039d\u039f\u03a3 \u0397\u039b\u0399\u039f\u03a5 \u0394\u03a1\u039f\u039c\u039f\u03a5\u03a3 \u039a\u0391\u0399 \u03a4\u0397\u039d \u0391\u03a0\u0395\u0399\u03a1\u039f\u039d \u0393\u0391\u0399\u0391\u039d \u0397\u0394\u0395 \u03a5\u0393\u03a1\u039f\u03a5 \u03a7\u03a5\u03a3\u0395\u0399\u03a3 \u0391\u0395\u03a1\u0391 \u03a4\u0395 \u039a\u0391\u0399 \u03a0\u03a5\u03a1 \u0395\u039d \u03a4\u0391\u039e\u0395\u0399 \u03a6\u039f\u03a1\u039f\u03a5\u039c\u0395\u039d\u0391\n",
        "15000 \u1e42\u0116\n"
       ]
      }
     ],
     "prompt_number": 15
    },
    {
     "cell_type": "code",
     "collapsed": false,
     "input": [
      "#g.char_table(s.decode('utf8').lower().encode('utf8'))\n",
      "g.char_table(s)"
     ],
     "language": "python",
     "metadata": {},
     "outputs": [
      {
       "html": [
        "<table class=\"char-table\"><caption>\u0391\u0399\u039b\u0399\u039f\u03a5 \u039d\u0395\u0399\u039a\u03a9\u039d\u039f\u03a3  \u1ea0\u03a8\u039a\u03da  \u0391\u03a1\u03a7\u0399\u03a4\u0395\u039a\u03a4\u039f\u039d\u039f\u03a3 \u0397\u039b\u0399\u0395 \u0398\u039f\u0391\u0399\u03a3 \u0399\u03a0\u03a0\u039f\u0399\u03a3\u0399\u039d \u0395\u0399\u039b\u0399\u03a3\u03a3\u03a9\u039d \u03a6\u039b\u039f\u0393\u0391 \u03a9\u03a3 \u03a0\u0391\u039d\u03a4\u0395\u039b\u0397 \u0398\u039d\u0397\u03a4\u039f\u0399\u03a3\u0399 \u03a4\u0397 \u03a4\u039f\u03a4\u0395 \u0393 \u0397\u039c\u0395\u03a1\u0391 \u0391\u039a\u03a4\u0395\u0399\u039d\u0391\u03a3 \u0395\u03a6\u0397\u039a\u0391\u03a3 \u0398\u0395\u039c\u0395\u039d\u039f\u03a3 \u0397\u039b\u0399\u039f\u03a5 \u0394\u03a1\u039f\u039c\u039f\u03a5\u03a3 \u039a\u0391\u0399 \u03a4\u0397\u039d \u0391\u03a0\u0395\u0399\u03a1\u039f\u039d \u0393\u0391\u0399\u0391\u039d \u0397\u0394\u0395 \u03a5\u0393\u03a1\u039f\u03a5 \u03a7\u03a5\u03a3\u0395\u0399\u03a3 \u0391\u0395\u03a1\u0391 \u03a4\u0395 \u039a\u0391\u0399 \u03a0\u03a5\u03a1 \u0395\u039d \u03a4\u0391\u039e\u0395\u0399 \u03a6\u039f\u03a1\u039f\u03a5\u039c\u0395\u039d\u0391 \u1e42\u0116</caption><thead><tr><th>\u0391</th><th>\u0399</th><th>\u039b</th><th>\u0399</th><th>\u039f</th><th>\u03a5</th><th>&nbsp;</th><th>&nbsp;</th><th>\u039d</th><th>\u0395</th><th>\u0399</th><th>\u039a</th><th>\u03a9</th><th>\u039d</th><th>\u039f</th><th>\u03a3</th><th>&nbsp;</th><th>&nbsp;</th><th>\u1ea0</th><th>\u03a8</th><th>\u039a</th><th>\u03da</th><th>&nbsp;</th><th>&nbsp;</th><th>\u0391</th><th>\u03a1</th><th>\u03a7</th><th>\u0399</th><th>\u03a4</th><th>\u0395</th><th>\u039a</th><th>\u03a4</th><th>\u039f</th><th>\u039d</th><th>\u039f</th><th>\u03a3</th><th>&nbsp;</th><th>&nbsp;</th><th>\u0397</th><th>\u039b</th><th>\u0399</th><th>\u0395</th><th>&nbsp;</th><th>&nbsp;</th><th>\u0398</th><th>\u039f</th><th>\u0391</th><th>\u0399</th><th>\u03a3</th><th>&nbsp;</th><th>&nbsp;</th><th>\u0399</th><th>\u03a0</th><th>\u03a0</th><th>\u039f</th><th>\u0399</th><th>\u03a3</th><th>\u0399</th><th>\u039d</th><th>&nbsp;</th><th>&nbsp;</th><th>\u0395</th><th>\u0399</th><th>\u039b</th><th>\u0399</th><th>\u03a3</th><th>\u03a3</th><th>\u03a9</th><th>\u039d</th><th>&nbsp;</th><th>&nbsp;</th><th>\u03a6</th><th>\u039b</th><th>\u039f</th><th>\u0393</th><th>\u0391</th><th>&nbsp;</th><th>&nbsp;</th><th>\u03a9</th><th>\u03a3</th><th>&nbsp;</th><th>&nbsp;</th><th>\u03a0</th><th>\u0391</th><th>\u039d</th><th>\u03a4</th><th>\u0395</th><th>\u039b</th><th>\u0397</th><th>&nbsp;</th><th>&nbsp;</th><th>\u0398</th><th>\u039d</th><th>\u0397</th><th>\u03a4</th><th>\u039f</th><th>\u0399</th><th>\u03a3</th><th>\u0399</th><th>&nbsp;</th><th>&nbsp;</th><th>\u03a4</th><th>\u0397</th><th>&nbsp;</th><th>&nbsp;</th><th>\u03a4</th><th>\u039f</th><th>\u03a4</th><th>\u0395</th><th>&nbsp;</th><th>&nbsp;</th><th>\u0393</th><th>&nbsp;</th><th>&nbsp;</th><th>\u0397</th><th>\u039c</th><th>\u0395</th><th>\u03a1</th><th>\u0391</th><th>&nbsp;</th><th>&nbsp;</th><th>\u0391</th><th>\u039a</th><th>\u03a4</th><th>\u0395</th><th>\u0399</th><th>\u039d</th><th>\u0391</th><th>\u03a3</th><th>&nbsp;</th><th>&nbsp;</th><th>\u0395</th><th>\u03a6</th><th>\u0397</th><th>\u039a</th><th>\u0391</th><th>\u03a3</th><th>&nbsp;</th><th>&nbsp;</th><th>\u0398</th><th>\u0395</th><th>\u039c</th><th>\u0395</th><th>\u039d</th><th>\u039f</th><th>\u03a3</th><th>&nbsp;</th><th>&nbsp;</th><th>\u0397</th><th>\u039b</th><th>\u0399</th><th>\u039f</th><th>\u03a5</th><th>&nbsp;</th><th>&nbsp;</th><th>\u0394</th><th>\u03a1</th><th>\u039f</th><th>\u039c</th><th>\u039f</th><th>\u03a5</th><th>\u03a3</th><th>&nbsp;</th><th>&nbsp;</th><th>\u039a</th><th>\u0391</th><th>\u0399</th><th>&nbsp;</th><th>&nbsp;</th><th>\u03a4</th><th>\u0397</th><th>\u039d</th><th>&nbsp;</th><th>&nbsp;</th><th>\u0391</th><th>\u03a0</th><th>\u0395</th><th>\u0399</th><th>\u03a1</th><th>\u039f</th><th>\u039d</th><th>&nbsp;</th><th>&nbsp;</th><th>\u0393</th><th>\u0391</th><th>\u0399</th><th>\u0391</th><th>\u039d</th><th>&nbsp;</th><th>&nbsp;</th><th>\u0397</th><th>\u0394</th><th>\u0395</th><th>&nbsp;</th><th>&nbsp;</th><th>\u03a5</th><th>\u0393</th><th>\u03a1</th><th>\u039f</th><th>\u03a5</th><th>&nbsp;</th><th>&nbsp;</th><th>\u03a7</th><th>\u03a5</th><th>\u03a3</th><th>\u0395</th><th>\u0399</th><th>\u03a3</th><th>&nbsp;</th><th>&nbsp;</th><th>\u0391</th><th>\u0395</th><th>\u03a1</th><th>\u0391</th><th>&nbsp;</th><th>&nbsp;</th><th>\u03a4</th><th>\u0395</th><th>&nbsp;</th><th>&nbsp;</th><th>\u039a</th><th>\u0391</th><th>\u0399</th><th>&nbsp;</th><th>&nbsp;</th><th>\u03a0</th><th>\u03a5</th><th>\u03a1</th><th>&nbsp;</th><th>&nbsp;</th><th>\u0395</th><th>\u039d</th><th>&nbsp;</th><th>&nbsp;</th><th>\u03a4</th><th>\u0391</th><th>\u039e</th><th>\u0395</th><th>\u0399</th><th>&nbsp;</th><th>&nbsp;</th><th>\u03a6</th><th>\u039f</th><th>\u03a1</th><th>\u039f</th><th>\u03a5</th><th>\u039c</th><th>\u0395</th><th>\u039d</th><th>\u0391</th><th>&nbsp;</th><th>&nbsp;</th><th>\u1e42</th><th>\u0116</th></tr></thead><tfoot><tr><td colspan=\"6\">521 <sub>8</sub></td><td/><td/><td colspan=\"8\">1205 <sub>8</sub></td><td/><td/><td colspan=\"4\">1726 <sub>7</sub></td><td/><td/><td colspan=\"12\">1726 <sub>7</sub></td><td/><td/><td colspan=\"4\">53 <sub>8</sub></td><td/><td/><td colspan=\"5\">290 <sub>2</sub></td><td/><td/><td colspan=\"8\">510 <sub>6</sub></td><td/><td/><td colspan=\"8\">1305 <sub>9</sub></td><td/><td/><td colspan=\"5\">604 <sub>1</sub></td><td/><td/><td colspan=\"2\">1000 <sub>1</sub></td><td/><td/><td colspan=\"7\">474 <sub>6</sub></td><td/><td/><td colspan=\"8\">657 <sub>9</sub></td><td/><td/><td colspan=\"2\">308 <sub>2</sub></td><td/><td/><td colspan=\"4\">675 <sub>9</sub></td><td/><td/><td colspan=\"1\">3 <sub>3</sub></td><td/><td/><td colspan=\"5\">154 <sub>1</sub></td><td/><td/><td colspan=\"8\">587 <sub>2</sub></td><td/><td/><td colspan=\"6\">734 <sub>5</sub></td><td/><td/><td colspan=\"7\">379 <sub>1</sub></td><td/><td/><td colspan=\"5\">518 <sub>5</sub></td><td/><td/><td colspan=\"7\">884 <sub>2</sub></td><td/><td/><td colspan=\"3\">31 <sub>4</sub></td><td/><td/><td colspan=\"3\">358 <sub>7</sub></td><td/><td/><td colspan=\"7\">316 <sub>1</sub></td><td/><td/><td colspan=\"5\">65 <sub>2</sub></td><td/><td/><td colspan=\"3\">17 <sub>8</sub></td><td/><td/><td colspan=\"5\">973 <sub>1</sub></td><td/><td/><td colspan=\"6\">1415 <sub>2</sub></td><td/><td/><td colspan=\"4\">107 <sub>8</sub></td><td/><td/><td colspan=\"2\">305 <sub>8</sub></td><td/><td/><td colspan=\"3\">31 <sub>4</sub></td><td/><td/><td colspan=\"3\">580 <sub>4</sub></td><td/><td/><td colspan=\"2\">55 <sub>1</sub></td><td/><td/><td colspan=\"5\">376 <sub>7</sub></td><td/><td/><td colspan=\"9\">1236 <sub>3</sub></td><td/><td/><td colspan=\"2\">15000 <sub>6</sub></td></tr><tr><td colspan=\"257\" style=\"border-top: solid 1px #ddd\">35178 <sub>24 / 6</sub></td></tr></tfoot><tbody><tr><td>A</td><td>I</td><td>L</td><td>I</td><td>O</td><td>U</td><td/><td class=\"empty-cell\"/><td>N</td><td>E</td><td>I</td><td>K</td><td>\u00d4</td><td>N</td><td>O</td><td>S</td><td/><td class=\"empty-cell\"/><td>\u1ea0</td><td>Y</td><td>K</td><td>W</td><td/><td class=\"empty-cell\"/><td>A</td><td>R</td><td>X</td><td>I</td><td>T</td><td>E</td><td>K</td><td>T</td><td>O</td><td>N</td><td>O</td><td>S</td><td/><td class=\"empty-cell\"/><td>\u00ca</td><td>L</td><td>I</td><td>E</td><td/><td class=\"empty-cell\"/><td>H</td><td>O</td><td>A</td><td>I</td><td>S</td><td/><td class=\"empty-cell\"/><td>I</td><td>P</td><td>P</td><td>O</td><td>I</td><td>S</td><td>I</td><td>N</td><td/><td class=\"empty-cell\"/><td>E</td><td>I</td><td>L</td><td>I</td><td>S</td><td>S</td><td>\u00d4</td><td>N</td><td/><td class=\"empty-cell\"/><td>F</td><td>L</td><td>O</td><td>G</td><td>A</td><td/><td class=\"empty-cell\"/><td>\u00d4</td><td>S</td><td/><td class=\"empty-cell\"/><td>P</td><td>A</td><td>N</td><td>T</td><td>E</td><td>L</td><td>\u00ca</td><td/><td class=\"empty-cell\"/><td>H</td><td>N</td><td>\u00ca</td><td>T</td><td>O</td><td>I</td><td>S</td><td>I</td><td/><td class=\"empty-cell\"/><td>T</td><td>\u00ca</td><td/><td class=\"empty-cell\"/><td>T</td><td>O</td><td>T</td><td>E</td><td/><td class=\"empty-cell\"/><td>G</td><td/><td class=\"empty-cell\"/><td>\u00ca</td><td>M</td><td>E</td><td>R</td><td>A</td><td/><td class=\"empty-cell\"/><td>A</td><td>K</td><td>T</td><td>E</td><td>I</td><td>N</td><td>A</td><td>S</td><td/><td class=\"empty-cell\"/><td>E</td><td>F</td><td>\u00ca</td><td>K</td><td>A</td><td>S</td><td/><td class=\"empty-cell\"/><td>H</td><td>E</td><td>M</td><td>E</td><td>N</td><td>O</td><td>S</td><td/><td class=\"empty-cell\"/><td>\u00ca</td><td>L</td><td>I</td><td>O</td><td>U</td><td/><td class=\"empty-cell\"/><td>D</td><td>R</td><td>O</td><td>M</td><td>O</td><td>U</td><td>S</td><td/><td class=\"empty-cell\"/><td>K</td><td>A</td><td>I</td><td/><td class=\"empty-cell\"/><td>T</td><td>\u00ca</td><td>N</td><td/><td class=\"empty-cell\"/><td>A</td><td>P</td><td>E</td><td>I</td><td>R</td><td>O</td><td>N</td><td/><td class=\"empty-cell\"/><td>G</td><td>A</td><td>I</td><td>A</td><td>N</td><td/><td class=\"empty-cell\"/><td>\u00ca</td><td>D</td><td>E</td><td/><td class=\"empty-cell\"/><td>U</td><td>G</td><td>R</td><td>O</td><td>U</td><td/><td class=\"empty-cell\"/><td>X</td><td>U</td><td>S</td><td>E</td><td>I</td><td>S</td><td/><td class=\"empty-cell\"/><td>A</td><td>E</td><td>R</td><td>A</td><td/><td class=\"empty-cell\"/><td>T</td><td>E</td><td/><td class=\"empty-cell\"/><td>K</td><td>A</td><td>I</td><td/><td class=\"empty-cell\"/><td>P</td><td>U</td><td>R</td><td/><td class=\"empty-cell\"/><td>E</td><td>N</td><td/><td class=\"empty-cell\"/><td>T</td><td>A</td><td>C</td><td>E</td><td>I</td><td/><td class=\"empty-cell\"/><td>F</td><td>O</td><td>R</td><td>O</td><td>U</td><td>M</td><td>E</td><td>N</td><td>A</td><td/><td class=\"empty-cell\"/><td>\u1e42</td><td>\u0116</td></tr><tr><td>1</td><td>10</td><td>30</td><td>10</td><td>70</td><td>400</td><td/><td class=\"empty-cell\"/><td>50</td><td>5</td><td>10</td><td>20</td><td>800</td><td>50</td><td>70</td><td>200</td><td/><td class=\"empty-cell\"/><td>1000</td><td>700</td><td>20</td><td>6</td><td/><td class=\"empty-cell\"/><td>1</td><td>100</td><td>600</td><td>10</td><td>300</td><td>5</td><td>20</td><td>300</td><td>70</td><td>50</td><td>70</td><td>200</td><td/><td class=\"empty-cell\"/><td>8</td><td>30</td><td>10</td><td>5</td><td/><td class=\"empty-cell\"/><td>9</td><td>70</td><td>1</td><td>10</td><td>200</td><td/><td class=\"empty-cell\"/><td>10</td><td>80</td><td>80</td><td>70</td><td>10</td><td>200</td><td>10</td><td>50</td><td/><td class=\"empty-cell\"/><td>5</td><td>10</td><td>30</td><td>10</td><td>200</td><td>200</td><td>800</td><td>50</td><td/><td class=\"empty-cell\"/><td>500</td><td>30</td><td>70</td><td>3</td><td>1</td><td/><td class=\"empty-cell\"/><td>800</td><td>200</td><td/><td class=\"empty-cell\"/><td>80</td><td>1</td><td>50</td><td>300</td><td>5</td><td>30</td><td>8</td><td/><td class=\"empty-cell\"/><td>9</td><td>50</td><td>8</td><td>300</td><td>70</td><td>10</td><td>200</td><td>10</td><td/><td class=\"empty-cell\"/><td>300</td><td>8</td><td/><td class=\"empty-cell\"/><td>300</td><td>70</td><td>300</td><td>5</td><td/><td class=\"empty-cell\"/><td>3</td><td/><td class=\"empty-cell\"/><td>8</td><td>40</td><td>5</td><td>100</td><td>1</td><td/><td class=\"empty-cell\"/><td>1</td><td>20</td><td>300</td><td>5</td><td>10</td><td>50</td><td>1</td><td>200</td><td/><td class=\"empty-cell\"/><td>5</td><td>500</td><td>8</td><td>20</td><td>1</td><td>200</td><td/><td class=\"empty-cell\"/><td>9</td><td>5</td><td>40</td><td>5</td><td>50</td><td>70</td><td>200</td><td/><td class=\"empty-cell\"/><td>8</td><td>30</td><td>10</td><td>70</td><td>400</td><td/><td class=\"empty-cell\"/><td>4</td><td>100</td><td>70</td><td>40</td><td>70</td><td>400</td><td>200</td><td/><td class=\"empty-cell\"/><td>20</td><td>1</td><td>10</td><td/><td class=\"empty-cell\"/><td>300</td><td>8</td><td>50</td><td/><td class=\"empty-cell\"/><td>1</td><td>80</td><td>5</td><td>10</td><td>100</td><td>70</td><td>50</td><td/><td class=\"empty-cell\"/><td>3</td><td>1</td><td>10</td><td>1</td><td>50</td><td/><td class=\"empty-cell\"/><td>8</td><td>4</td><td>5</td><td/><td class=\"empty-cell\"/><td>400</td><td>3</td><td>100</td><td>70</td><td>400</td><td/><td class=\"empty-cell\"/><td>600</td><td>400</td><td>200</td><td>5</td><td>10</td><td>200</td><td/><td class=\"empty-cell\"/><td>1</td><td>5</td><td>100</td><td>1</td><td/><td class=\"empty-cell\"/><td>300</td><td>5</td><td/><td class=\"empty-cell\"/><td>20</td><td>1</td><td>10</td><td/><td class=\"empty-cell\"/><td>80</td><td>400</td><td>100</td><td/><td class=\"empty-cell\"/><td>5</td><td>50</td><td/><td class=\"empty-cell\"/><td>300</td><td>1</td><td>60</td><td>5</td><td>10</td><td/><td class=\"empty-cell\"/><td>500</td><td>70</td><td>100</td><td>70</td><td>400</td><td>40</td><td>5</td><td>50</td><td>1</td><td/><td class=\"empty-cell\"/><td>10000</td><td>5000</td></tr></tbody></table>"
       ],
       "metadata": {},
       "output_type": "pyout",
       "prompt_number": 16,
       "text": [
        "<remarkuple.table.table at 0x10586d310>"
       ]
      }
     ],
     "prompt_number": 16
    },
    {
     "cell_type": "code",
     "collapsed": false,
     "input": [
      "a, b, c = g.char_table_data(s)\n",
      "b"
     ],
     "language": "python",
     "metadata": {},
     "outputs": [
      {
       "html": [
        "<div style=\"max-height:1000px;max-width:1500px;overflow:auto;\">\n",
        "<table border=\"1\" class=\"dataframe\">\n",
        "  <thead>\n",
        "    <tr style=\"text-align: right;\">\n",
        "      <th></th>\n",
        "      <th>value</th>\n",
        "      <th>characters</th>\n",
        "      <th>digital_sum</th>\n",
        "      <th>digital_root</th>\n",
        "    </tr>\n",
        "    <tr>\n",
        "      <th>word</th>\n",
        "      <th></th>\n",
        "      <th></th>\n",
        "      <th></th>\n",
        "      <th></th>\n",
        "    </tr>\n",
        "  </thead>\n",
        "  <tbody>\n",
        "    <tr>\n",
        "      <th>\u0391\u0395\u03a1\u0391</th>\n",
        "      <td>   107</td>\n",
        "      <td>  4</td>\n",
        "      <td>  8</td>\n",
        "      <td> 8</td>\n",
        "    </tr>\n",
        "    <tr>\n",
        "      <th>\u0391\u0399\u039b\u0399\u039f\u03a5</th>\n",
        "      <td>   521</td>\n",
        "      <td>  6</td>\n",
        "      <td>  8</td>\n",
        "      <td> 8</td>\n",
        "    </tr>\n",
        "    <tr>\n",
        "      <th>\u0391\u039a\u03a4\u0395\u0399\u039d\u0391\u03a3</th>\n",
        "      <td>   587</td>\n",
        "      <td>  8</td>\n",
        "      <td> 20</td>\n",
        "      <td> 2</td>\n",
        "    </tr>\n",
        "    <tr>\n",
        "      <th>\u0391\u03a0\u0395\u0399\u03a1\u039f\u039d</th>\n",
        "      <td>   316</td>\n",
        "      <td>  7</td>\n",
        "      <td> 10</td>\n",
        "      <td> 1</td>\n",
        "    </tr>\n",
        "    <tr>\n",
        "      <th>\u0391\u03a1\u03a7\u0399\u03a4\u0395\u039a\u03a4\u039f\u039d\u039f\u03a3</th>\n",
        "      <td>  1726</td>\n",
        "      <td> 12</td>\n",
        "      <td> 16</td>\n",
        "      <td> 7</td>\n",
        "    </tr>\n",
        "    <tr>\n",
        "      <th>\u0393</th>\n",
        "      <td>     3</td>\n",
        "      <td>  1</td>\n",
        "      <td>  3</td>\n",
        "      <td> 3</td>\n",
        "    </tr>\n",
        "    <tr>\n",
        "      <th>\u0393\u0391\u0399\u0391\u039d</th>\n",
        "      <td>    65</td>\n",
        "      <td>  5</td>\n",
        "      <td> 11</td>\n",
        "      <td> 2</td>\n",
        "    </tr>\n",
        "    <tr>\n",
        "      <th>\u0394\u03a1\u039f\u039c\u039f\u03a5\u03a3</th>\n",
        "      <td>   884</td>\n",
        "      <td>  7</td>\n",
        "      <td> 20</td>\n",
        "      <td> 2</td>\n",
        "    </tr>\n",
        "    <tr>\n",
        "      <th>\u0395\u0399\u039b\u0399\u03a3\u03a3\u03a9\u039d</th>\n",
        "      <td>  1305</td>\n",
        "      <td>  8</td>\n",
        "      <td>  9</td>\n",
        "      <td> 9</td>\n",
        "    </tr>\n",
        "    <tr>\n",
        "      <th>\u0395\u039d</th>\n",
        "      <td>    55</td>\n",
        "      <td>  2</td>\n",
        "      <td> 10</td>\n",
        "      <td> 1</td>\n",
        "    </tr>\n",
        "    <tr>\n",
        "      <th>\u0395\u03a6\u0397\u039a\u0391\u03a3</th>\n",
        "      <td>   734</td>\n",
        "      <td>  6</td>\n",
        "      <td> 14</td>\n",
        "      <td> 5</td>\n",
        "    </tr>\n",
        "    <tr>\n",
        "      <th>\u0397\u0394\u0395</th>\n",
        "      <td>    17</td>\n",
        "      <td>  3</td>\n",
        "      <td>  8</td>\n",
        "      <td> 8</td>\n",
        "    </tr>\n",
        "    <tr>\n",
        "      <th>\u0397\u039b\u0399\u0395</th>\n",
        "      <td>    53</td>\n",
        "      <td>  4</td>\n",
        "      <td>  8</td>\n",
        "      <td> 8</td>\n",
        "    </tr>\n",
        "    <tr>\n",
        "      <th>\u0397\u039b\u0399\u039f\u03a5</th>\n",
        "      <td>   518</td>\n",
        "      <td>  5</td>\n",
        "      <td> 14</td>\n",
        "      <td> 5</td>\n",
        "    </tr>\n",
        "    <tr>\n",
        "      <th>\u0397\u039c\u0395\u03a1\u0391</th>\n",
        "      <td>   154</td>\n",
        "      <td>  5</td>\n",
        "      <td> 10</td>\n",
        "      <td> 1</td>\n",
        "    </tr>\n",
        "    <tr>\n",
        "      <th>\u0398\u0395\u039c\u0395\u039d\u039f\u03a3</th>\n",
        "      <td>   379</td>\n",
        "      <td>  7</td>\n",
        "      <td> 19</td>\n",
        "      <td> 1</td>\n",
        "    </tr>\n",
        "    <tr>\n",
        "      <th>\u0398\u039d\u0397\u03a4\u039f\u0399\u03a3\u0399</th>\n",
        "      <td>   657</td>\n",
        "      <td>  8</td>\n",
        "      <td> 18</td>\n",
        "      <td> 9</td>\n",
        "    </tr>\n",
        "    <tr>\n",
        "      <th>\u0398\u039f\u0391\u0399\u03a3</th>\n",
        "      <td>   290</td>\n",
        "      <td>  5</td>\n",
        "      <td> 11</td>\n",
        "      <td> 2</td>\n",
        "    </tr>\n",
        "    <tr>\n",
        "      <th>\u0399\u03a0\u03a0\u039f\u0399\u03a3\u0399\u039d</th>\n",
        "      <td>   510</td>\n",
        "      <td>  8</td>\n",
        "      <td>  6</td>\n",
        "      <td> 6</td>\n",
        "    </tr>\n",
        "    <tr>\n",
        "      <th>\u039a\u0391\u0399</th>\n",
        "      <td>    62</td>\n",
        "      <td>  6</td>\n",
        "      <td>  8</td>\n",
        "      <td> 8</td>\n",
        "    </tr>\n",
        "    <tr>\n",
        "      <th>\u039d\u0395\u0399\u039a\u03a9\u039d\u039f\u03a3</th>\n",
        "      <td>  1205</td>\n",
        "      <td>  8</td>\n",
        "      <td>  8</td>\n",
        "      <td> 8</td>\n",
        "    </tr>\n",
        "    <tr>\n",
        "      <th>\u03a0\u0391\u039d\u03a4\u0395\u039b\u0397</th>\n",
        "      <td>   474</td>\n",
        "      <td>  7</td>\n",
        "      <td> 15</td>\n",
        "      <td> 6</td>\n",
        "    </tr>\n",
        "    <tr>\n",
        "      <th>\u03a0\u03a5\u03a1</th>\n",
        "      <td>   580</td>\n",
        "      <td>  3</td>\n",
        "      <td> 13</td>\n",
        "      <td> 4</td>\n",
        "    </tr>\n",
        "    <tr>\n",
        "      <th>\u03a4\u0391\u039e\u0395\u0399</th>\n",
        "      <td>   376</td>\n",
        "      <td>  5</td>\n",
        "      <td> 16</td>\n",
        "      <td> 7</td>\n",
        "    </tr>\n",
        "    <tr>\n",
        "      <th>\u03a4\u0395</th>\n",
        "      <td>   305</td>\n",
        "      <td>  2</td>\n",
        "      <td>  8</td>\n",
        "      <td> 8</td>\n",
        "    </tr>\n",
        "    <tr>\n",
        "      <th>\u03a4\u0397</th>\n",
        "      <td>   308</td>\n",
        "      <td>  2</td>\n",
        "      <td> 11</td>\n",
        "      <td> 2</td>\n",
        "    </tr>\n",
        "    <tr>\n",
        "      <th>\u03a4\u0397\u039d</th>\n",
        "      <td>   358</td>\n",
        "      <td>  3</td>\n",
        "      <td> 16</td>\n",
        "      <td> 7</td>\n",
        "    </tr>\n",
        "    <tr>\n",
        "      <th>\u03a4\u039f\u03a4\u0395</th>\n",
        "      <td>   675</td>\n",
        "      <td>  4</td>\n",
        "      <td> 18</td>\n",
        "      <td> 9</td>\n",
        "    </tr>\n",
        "    <tr>\n",
        "      <th>\u03a5\u0393\u03a1\u039f\u03a5</th>\n",
        "      <td>   973</td>\n",
        "      <td>  5</td>\n",
        "      <td> 19</td>\n",
        "      <td> 1</td>\n",
        "    </tr>\n",
        "    <tr>\n",
        "      <th>\u03a6\u039b\u039f\u0393\u0391</th>\n",
        "      <td>   604</td>\n",
        "      <td>  5</td>\n",
        "      <td> 10</td>\n",
        "      <td> 1</td>\n",
        "    </tr>\n",
        "    <tr>\n",
        "      <th>\u03a6\u039f\u03a1\u039f\u03a5\u039c\u0395\u039d\u0391</th>\n",
        "      <td>  1236</td>\n",
        "      <td>  9</td>\n",
        "      <td> 12</td>\n",
        "      <td> 3</td>\n",
        "    </tr>\n",
        "    <tr>\n",
        "      <th>\u03a7\u03a5\u03a3\u0395\u0399\u03a3</th>\n",
        "      <td>  1415</td>\n",
        "      <td>  6</td>\n",
        "      <td> 11</td>\n",
        "      <td> 2</td>\n",
        "    </tr>\n",
        "    <tr>\n",
        "      <th>\u03a9\u03a3</th>\n",
        "      <td>  1000</td>\n",
        "      <td>  2</td>\n",
        "      <td>  1</td>\n",
        "      <td> 1</td>\n",
        "    </tr>\n",
        "    <tr>\n",
        "      <th>\u1e42\u0116</th>\n",
        "      <td> 15000</td>\n",
        "      <td>  2</td>\n",
        "      <td>  6</td>\n",
        "      <td> 6</td>\n",
        "    </tr>\n",
        "    <tr>\n",
        "      <th>\u1ea0\u03a8\u039a\u03da</th>\n",
        "      <td>  1726</td>\n",
        "      <td>  4</td>\n",
        "      <td> 16</td>\n",
        "      <td> 7</td>\n",
        "    </tr>\n",
        "  </tbody>\n",
        "</table>\n",
        "</div>"
       ],
       "metadata": {},
       "output_type": "pyout",
       "prompt_number": 17,
       "text": [
        "              value  characters  digital_sum  digital_root\n",
        "word                                                      \n",
        "\u0391\u0395\u03a1\u0391            107           4            8             8\n",
        "\u0391\u0399\u039b\u0399\u039f\u03a5          521           6            8             8\n",
        "\u0391\u039a\u03a4\u0395\u0399\u039d\u0391\u03a3        587           8           20             2\n",
        "\u0391\u03a0\u0395\u0399\u03a1\u039f\u039d         316           7           10             1\n",
        "\u0391\u03a1\u03a7\u0399\u03a4\u0395\u039a\u03a4\u039f\u039d\u039f\u03a3   1726          12           16             7\n",
        "\u0393                 3           1            3             3\n",
        "\u0393\u0391\u0399\u0391\u039d            65           5           11             2\n",
        "\u0394\u03a1\u039f\u039c\u039f\u03a5\u03a3         884           7           20             2\n",
        "\u0395\u0399\u039b\u0399\u03a3\u03a3\u03a9\u039d       1305           8            9             9\n",
        "\u0395\u039d               55           2           10             1\n",
        "\u0395\u03a6\u0397\u039a\u0391\u03a3          734           6           14             5\n",
        "\u0397\u0394\u0395              17           3            8             8\n",
        "\u0397\u039b\u0399\u0395             53           4            8             8\n",
        "\u0397\u039b\u0399\u039f\u03a5           518           5           14             5\n",
        "\u0397\u039c\u0395\u03a1\u0391           154           5           10             1\n",
        "\u0398\u0395\u039c\u0395\u039d\u039f\u03a3         379           7           19             1\n",
        "\u0398\u039d\u0397\u03a4\u039f\u0399\u03a3\u0399        657           8           18             9\n",
        "\u0398\u039f\u0391\u0399\u03a3           290           5           11             2\n",
        "\u0399\u03a0\u03a0\u039f\u0399\u03a3\u0399\u039d        510           8            6             6\n",
        "\u039a\u0391\u0399              62           6            8             8\n",
        "\u039d\u0395\u0399\u039a\u03a9\u039d\u039f\u03a3       1205           8            8             8\n",
        "\u03a0\u0391\u039d\u03a4\u0395\u039b\u0397         474           7           15             6\n",
        "\u03a0\u03a5\u03a1             580           3           13             4\n",
        "\u03a4\u0391\u039e\u0395\u0399           376           5           16             7\n",
        "\u03a4\u0395              305           2            8             8\n",
        "\u03a4\u0397              308           2           11             2\n",
        "\u03a4\u0397\u039d             358           3           16             7\n",
        "\u03a4\u039f\u03a4\u0395            675           4           18             9\n",
        "\u03a5\u0393\u03a1\u039f\u03a5           973           5           19             1\n",
        "\u03a6\u039b\u039f\u0393\u0391           604           5           10             1\n",
        "\u03a6\u039f\u03a1\u039f\u03a5\u039c\u0395\u039d\u0391      1236           9           12             3\n",
        "\u03a7\u03a5\u03a3\u0395\u0399\u03a3         1415           6           11             2\n",
        "\u03a9\u03a3             1000           2            1             1\n",
        "\u1e42\u0116            15000           2            6             6\n",
        "\u1ea0\u03a8\u039a\u03da           1726           4           16             7"
       ]
      }
     ],
     "prompt_number": 17
    },
    {
     "cell_type": "code",
     "collapsed": false,
     "input": [
      "from IPython.core.display import HTML\n",
      "with open('abnum.css') as f:\n",
      "    css = f.read()\n",
      "HTML('<style>%s</style>' % css)"
     ],
     "language": "python",
     "metadata": {},
     "outputs": [
      {
       "html": [
        "<style>/* notebook unstylings */\n",
        "\n",
        ".rendered_html table,\n",
        ".rendered_html tr,\n",
        ".rendered_html th,\n",
        ".rendered_html td {\n",
        "    border: 0\n",
        "}\n",
        "\n",
        "/* general table styles */\n",
        "\n",
        "table {\n",
        "    color: black;\n",
        "    border: 0;\n",
        "    margin: 1.5em auto;\n",
        "    border-bottom: 1px solid #999;\n",
        "    border-collapse: collapse;\n",
        "    -webkit-border-top-left-radius: 8px;\n",
        "    -webkit-border-top-right-radius: 8px;\n",
        "    -moz-border-radius: 8px 8px 0 0;\n",
        "    border-radius: 8px 8px 0 0;\n",
        "    background: #444;\n",
        "}\n",
        "table caption {\n",
        "    margin-bottom: .75em;\n",
        "    text-align: center;\n",
        "    font-style: italic;\n",
        "}\n",
        "table td {\n",
        "    -moz-transition: background 0.2s linear;\n",
        "    -o-transition: background 0.2s linear;\n",
        "    transition: background 0.2s linear;\n",
        "    white-space: nowrap;\n",
        "    border-top: 1px solid #eee;\n",
        "    border-left: 1px solid #eee;\n",
        "    padding: 0.4em 0.8em;\n",
        "    background: #fff;\n",
        "}\n",
        "table tfoot,\n",
        "table tbody {\n",
        "    outline-offset: -1px;\n",
        "    outline: 1px solid #ccc;\n",
        "}\n",
        "\n",
        "table thead {}\n",
        "table thead th {\n",
        "    border: none;\n",
        "    border-bottom: 2px solid #eee;\n",
        "    background: transparent;\n",
        "    color: #fff;\n",
        "    text-align: center;\n",
        "    cursor: pointer;\n",
        "    padding: 0.4em 0.8em;\n",
        "}\n",
        "\n",
        "table tbody {}\n",
        "table tbody tr:hover td {\n",
        "    background: #ffe;\n",
        "    color: black;\n",
        "}\n",
        "table tbody tr td:hover {\n",
        "    background: #f5f6d2;\n",
        "}\n",
        "table tbody tr td:last-child {\n",
        "    text-align: center\n",
        "}\n",
        "\n",
        "table tbody tr th {\n",
        "    color: white;\n",
        "    padding: 0.4em 0.8em;\n",
        "    text-transform: uppercase\n",
        "}\n",
        "\n",
        "\n",
        "table tfoot {}\n",
        "table tfoot td {\n",
        "    padding: 0.4em 0.8em;\n",
        "    text-align: center;\n",
        "    font-style: italic;\n",
        "}\n",
        "\n",
        "table .right {\n",
        "    text-align: right\n",
        "}\n",
        "\n",
        "table tr.ok td {background-color: white;}\n",
        "table tr.fail td {background-color: red; color: white}\n",
        "table tr.error td {background-color: lightpink}\n",
        "table tbody.failures {}\n",
        "table tbody.errors {}\n",
        "\n",
        "table tbody tr th:first-child {background-color: #777; padding: 0 10px}\n",
        "\n",
        "/* custom table styles */\n",
        "\n",
        "table.char-table thead tr th, \n",
        "table.char-table tbody tr td, \n",
        "table.char-table tfoot tr td {text-align: center;}\n",
        "table.char-table tbody tr td.empty-cell {border-left: 1px solid #aaa}</style>"
       ],
       "metadata": {},
       "output_type": "pyout",
       "prompt_number": 18,
       "text": [
        "<IPython.core.display.HTML at 0x1093c8550>"
       ]
      }
     ],
     "prompt_number": 18
    },
    {
     "cell_type": "markdown",
     "metadata": {},
     "source": [
      "## The [MIT](http://choosealicense.com/licenses/mit/) License\n",
      "\n",
      "Copyright (c) 2015 Marko Manninen"
     ]
    }
   ],
   "metadata": {}
  }
 ]
}