{
 "metadata": {
  "name": "",
  "signature": "sha256:910a97aafeb4325110e2855163e832a0297512fbd442241bd3e1e94f575ba75a"
 },
 "nbformat": 3,
 "nbformat_minor": 0,
 "worksheets": [
  {
   "cells": [
    {
     "cell_type": "markdown",
     "metadata": {},
     "source": [
      "# Abnum\n",
      "\n",
      "Alphabetic numerals python package including various letter value substituting systems from ancient times to modern artificial ones.\n",
      "\n",
      "Currently supported scripts are: greek (ancient), hebrew and english. Planned is a support for arabic, coptic, sanskrit and ethiopian script.\n",
      "\n",
      "## Usage\n",
      "\n",
      "Import Abnum class and scripts from package:"
     ]
    },
    {
     "cell_type": "code",
     "collapsed": false,
     "input": [
      "from abnum import Abnum, greek, hebrew, english"
     ],
     "language": "python",
     "metadata": {},
     "outputs": [],
     "prompt_number": 1
    },
    {
     "cell_type": "markdown",
     "metadata": {},
     "source": [
      "Initialize abnum object which hold all main functionality for numerical value calculation:"
     ]
    },
    {
     "cell_type": "code",
     "collapsed": false,
     "input": [
      "abn = Abnum(greek)\n",
      "phrase = '\u03bf \u039b\u03bf\u03b3\u03bf\u03c2'\n",
      "print phrase, (abn.convert(phrase), abn.value(phrase))"
     ],
     "language": "python",
     "metadata": {},
     "outputs": [
      {
       "output_type": "stream",
       "stream": "stdout",
       "text": [
        "\u03bf \u039b\u03bf\u03b3\u03bf\u03c2 ('o Logos', 443)\n"
       ]
      }
     ],
     "prompt_number": 2
    },
    {
     "cell_type": "markdown",
     "metadata": {},
     "source": [
      "Thus we can see, that \u03bf \u039b\u03bf\u03b3\u03bf\u03c2 is translitterated to 'o Logos' and its alphabetic numerals value is 443.\n",
      "\n",
      "Abnum uses [romanize](https://github.com/markomanninen/romanize) translitteration module for converting script to roman letters. But is works also other way around. So you can get a greek script presentation of the word as well."
     ]
    },
    {
     "cell_type": "code",
     "collapsed": false,
     "input": [
      "print abn.convert('o Logos')"
     ],
     "language": "python",
     "metadata": {},
     "outputs": [
      {
       "output_type": "stream",
       "stream": "stdout",
       "text": [
        "\u03bf \u039b\u03bf\u03b3\u03bf\u03c3\n"
       ]
      }
     ],
     "prompt_number": 3
    },
    {
     "cell_type": "markdown",
     "metadata": {},
     "source": [
      "Some of the scripts have capital letters and some doesn't. This is affected on the functioning is a way that \n",
      "for example in greek and english small and capital letters have same value and their form is reserved on conversion."
     ]
    },
    {
     "cell_type": "code",
     "collapsed": false,
     "input": [
      "print abn.convert('GAIOS IOYLIOS KAISAR'), ',', \\\n",
      "      abn.convert('GAIOS IOYLIOS KAISAR'.title())"
     ],
     "language": "python",
     "metadata": {},
     "outputs": [
      {
       "output_type": "stream",
       "stream": "stdout",
       "text": [
        "\u0393\u0391\u0399\u039f\u03a3 \u0399\u039f\u03a8\u039b\u0399\u039f\u03a3 \u039a\u0391\u0399\u03a3\u0391\u03a1 , \u0393\u03b1\u03b9\u03bf\u03c3 \u0399\u03bf\u03c8\u03bb\u03b9\u03bf\u03c3 \u039a\u03b1\u03b9\u03c3\u03b1\u03c1\n"
       ]
      }
     ],
     "prompt_number": 32
    },
    {
     "cell_type": "markdown",
     "metadata": {},
     "source": [
      "Other useful feature from romanize module is implemented by preprocess functionality, when special accent letters are converted to corresponding normal letters. This is because in alphabetic numerals conversion accents don't carry any special value. You can use prerocessing via second parameter in convert method."
     ]
    },
    {
     "cell_type": "code",
     "collapsed": false,
     "input": [
      "print abn.convert('\u1f00\u03b4\u03b5\u03bb\u03c6\u03ad, \u03b2\u03bf\u03ae\u03b8\u03b5\u03b9', True)"
     ],
     "language": "python",
     "metadata": {},
     "outputs": [
      {
       "output_type": "stream",
       "stream": "stdout",
       "text": [
        "adelfe bo\u00eahei\n"
       ]
      }
     ],
     "prompt_number": 33
    },
    {
     "cell_type": "markdown",
     "metadata": {},
     "source": [
      "Now phrase is ready for value calculation. Note that use can also use transliteration version of the string for calculation."
     ]
    },
    {
     "cell_type": "code",
     "collapsed": false,
     "input": [
      "print abn.value(abn.convert('\u1f00\u03b4\u03b5\u03bb\u03c6\u03ad, \u03b2\u03bf\u03ae\u03b8\u03b5\u03b9', True)), abn.value('adelfe bo\u00eahei')"
     ],
     "language": "python",
     "metadata": {},
     "outputs": [
      {
       "output_type": "stream",
       "stream": "stdout",
       "text": [
        "649 649\n"
       ]
      }
     ],
     "prompt_number": 36
    },
    {
     "cell_type": "code",
     "collapsed": false,
     "input": [
      "phrase = \"\u039c\u03b5\u03c4\u1f70 \u03c4\u03b1\u1fe6\u03c4\u03b1 \u1f10\u03c6\u03b1\u03bd\u03ad\u03c1\u03c9\u03c3\u03b5\u03bd \u1f11\u03b1\u03c5\u03c4\u1f78\u03bd \u03c0\u03ac\u03bb\u03b9\u03bd \u1f41 \u1f38\u03b7\u03c3\u03bf\u1fe6\u03c2 \u03c4\u03bf\u1fd6\u03c2 \u03bc\u03b1\u03b8\u03b7\u03c4\u03b1\u1fd6\u03c2 (autou|autou egertheis ek nekro\u0153n) \u1f10\u03c0\u1f76 \u03c4\u1fc6\u03c2 \u03b8\u03b1\u03bb\u03ac\u03c3\u03c3\u03b7\u03c2 \u03c4\u1fc6\u03c2 \u03a4\u03b9\u03b2\u03b5\u03c1\u03b9\u03ac\u03b4\u03bf\u03c2 \u1f10\u03c6\u03b1\u03bd\u03ad\u03c1\u03c9\u03c3\u03b5\u03bd \u03b4\u1f72 \u03bf\u1f55\u03c4\u03c9\u03c2\"\n",
      "accents = \"\u03ce,\u03cd,\u03cc,\u03cb,\u03ca,\u1f01,\u03ac,\u03ad,\u03ae,\u03af,\u03b0,\u0388,\u0389,\u038a,\u038c,\u038e,\u038f,\u0386,\u0390,\u1f59,\u1f5b,\u1f5d,\u1f5f,\u1f51,\u1f50,\u1f53,\u1f52,\u1f55,\u1f54,\u1f57,\u1f56,\u1f49,\u1f48,\u1f4b,\u1f4a,\u1f4d,\u1f4c,\u1f41,\u1f40,\u1f43,\u1f42,\u1f45,\u1f44,\u1f78,\u1f7a,\u1f7c,\u1f70,\u1f72,\u1f74,\u1f76,\u1f69,\u1f68,\u1f6b,\u1f6a,\u1f6d,\u1f6c,\u1f6f,\u1f6e,\u1f61,\u1f60,\u1f63,\u1f62,\u1f65,\u1f64,\u1f67,\u1f66,\u1f1c,\u1f1d,\u1f1a,\u1f1b,\u1f18,\u1f19,\u1f14,\u1f15,\u1f12,\u1f13,\u1f10,\u1f11,\u1f0e,\u1f0f,\u1f0c,\u1f0d,\u1f0a,\u1f0b,\u1f08,\u1f09,\u1f06,\u1f07,\u1f04,\u1f05,\u1f02,\u1f03,\u1f00,\u1ff2,\u1f3e,\u1f3f,\u1f3c,\u1f3d,\u1f3a,\u1f3b,\u1f38,\u1f39,\u1f36,\u1f37,\u1f34,\u1f35,\u1f32,\u1f33,\u1f30,\u1f31,\u1f2e,\u1f2f,\u1f2c,\u1f2d,\u1f2a,\u1f2b,\u1f28,\u1f29,\u1f26,\u1f27,\u1f24,\u1f25,\u1f22,\u1f23,\u1f20,\u1f21,\u1fd7,\u1fd6,\u1fd2,\u1fda,\u1fc7,\u1fc6,\u1fc4,\u1fc3,\u1fc2,\u1fcc,\u1fca,\u1fc8,\u1ff7,\u1ff6,\u1ff4,\u1ff3,\u00ee,\u00ec,\u1ffc,\u1ffa,\u1ff8,\u1fe7,\u1fe6,\u00f9,\u1fe4,\u1fe2,\u1fe1,\u1fe0,\u00f3,\u00f2,\u1fec,\u1fea,\u1fe9,\u00f4,\u1f94,\u1f95,\u1f96,\u1f97,\u1f90,\u1f91,\u1f92,\u1f93,\u1f9c,\u1f9d,\u1f9e,\u1f9f,\u1f98,\u1f99,\u1f9a,\u1f9b,\u1f84,\u1f85,\u1f86,\u1f87,\u1f80,\u1f81,\u1f82,\u1f83,\u1f8c,\u1f8d,\u1f8e,\u1f8f,\u1f88,\u1f89,\u1f8a,\u1f8b,\u1fb4,\u1fb6,\u1fb7,\u1fb2,\u1fb3,\u1fbc,\u1fba,\u1fa4,\u1fa5,\u1fa6,\u1fa7,\u1fa0,\u1fa1,\u1fa2,\u1fa3,\u1fac,\u1fad,\u1fae,\u1faf,\u1fa8,\u1fa9,\u1faa,\u1fab,\u1fe5\"\n",
      "abn = Abnum(greek)\n",
      "print abn.value('marko'), abn.value('\u03bf \u039b\u03bf\u03b3\u03bf\u03c2')\n",
      "print abn.convert('marko'), abn.convert('\u03bf \u039b\u03bf\u03b3\u03bf\u03c2')\n",
      "print abn.preprocess('marko'), abn.preprocess('\u03bf \u039b\u03bf\u03b3\u03bf\u03c2')\n",
      "print abn.preprocess(phrase), abn.value(abn.preprocess(phrase))\n",
      "print abn.preprocess(accents), abn.value(abn.preprocess(accents))"
     ],
     "language": "python",
     "metadata": {},
     "outputs": [
      {
       "output_type": "stream",
       "stream": "stdout",
       "text": [
        "231 443\n",
        "\u03bc\u03b1\u03c1\u03ba\u03bf o Logos\n",
        "marko \u03bf \u039b\u03bf\u03b3\u03bf\u03c2\n",
        "\u039c\u03b5\u03c4\u03b1 \u03c4\u03b1\u03c5\u03c4\u03b1 \u03b5\u03c6\u03b1\u03bd\u03b5\u03c1\u03c9\u03c3\u03b5\u03bd \u03b5\u03b1\u03c5\u03c4\u03bf\u03bd \u03c0\u03b1\u03bb\u03b9\u03bd \u03bf \u0399\u03b7\u03c3\u03bf\u03c5\u03c2 \u03c4\u03bf\u03b9\u03c2 \u03bc\u03b1\u03b8\u03b7\u03c4\u03b1\u03b9\u03c2 autouautou egertheis ek nekron \u03b5\u03c0\u03b9 \u03c4\u03b7\u03c2 \u03b8\u03b1\u03bb\u03b1\u03c3\u03c3\u03b7\u03c2 \u03c4\u03b7\u03c2 \u03a4\u03b9\u03b2\u03b5\u03c1\u03b9\u03b1\u03b4\u03bf\u03c2 \u03b5\u03c6\u03b1\u03bd\u03b5\u03c1\u03c9\u03c3\u03b5\u03bd \u03b4\u03b5 \u03bf\u03c5\u03c4\u03c9\u03c2 15424\n",
        "\u03c9\u03c5\u03bf\u03c5\u03b9\u03b1\u03b1\u03b5\u03b7\u03b9\u03c5\u0395\u0397\u0399\u039f\u03d2\u03a9\u0391\u03b9\u03d2\u03d2\u03d2\u03d2\u03c5\u03c5\u03c5\u03c5\u03c5\u03c5\u03c5\u03c5\u039f\u039f\u039f\u039f\u039f\u039f\u03bf\u03bf\u03bf\u03bf\u03bf\u03bf\u03bf\u03c5\u03c9\u03b1\u03b5\u03b7\u03b9\u03a9\u03a9\u03a9\u03a9\u03a9\u03a9\u03a9\u03a9\u03c9\u03c9\u03c9\u03c9\u03c9\u03c9\u03c9\u03c9\u0395\u0395\u0395\u0395\u0395\u0395\u03b5\u03b5\u03b5\u03b5\u03b5\u03b5\u0391\u0391\u0391\u0391\u0391\u0391\u0391\u0391\u03b1\u03b1\u03b1\u03b1\u03b1\u03b1\u03b1\u03c9\u0399\u0399\u0399\u0399\u0399\u0399\u0399\u0399\u03b9\u03b9\u03b9\u03b9\u03b9\u03b9\u03b9\u03b9\u0397\u0397\u0397\u0397\u0397\u0397\u0397\u0397\u03b7\u03b7\u03b7\u03b7\u03b7\u03b7\u03b7\u03b7\u03b9\u03b9\u03b9\u0399\u03b7\u03b7\u03b7\u03b7\u03b7\u0397\u0397\u0395\u03c9\u03c9\u03c9\u03c9\u03b9\u03b9\u03a9\u03a9\u039f\u03c5\u03c5\u03c5\u03c1\u03c5\u03c5\u03c5\u03bf\u03bf\u03a1\u03d2\u03d2\u00f4\u03b7\u03b7\u03b7\u03b7\u03b7\u03b7\u03b7\u03b7\u0397\u0397\u0397\u0397\u0397\u0397\u0397\u0397\u03b1\u03b1\u03b1\u03b1\u03b1\u03b1\u03b1\u03b1\u0391\u0391\u0391\u0391\u0391\u0391\u0391\u0391\u03b1\u03b1\u03b1\u03b1\u03b1\u0391\u0391\u03c9\u03c9\u03c9\u03c9\u03c9\u03c9\u03c9\u03c9\u03a9\u03a9\u03a9\u03a9\u03a9\u03a9\u03a9\u03a9\u03c1 46688\n"
       ]
      }
     ],
     "prompt_number": 5
    },
    {
     "cell_type": "code",
     "collapsed": false,
     "input": [
      "abn = Abnum(english)\n",
      "print abn.value('marko')\n",
      "print abn.convert('marko \u00f6')\n",
      "print abn.preprocess('marko \u00f6')"
     ],
     "language": "python",
     "metadata": {},
     "outputs": [
      {
       "output_type": "stream",
       "stream": "stdout",
       "text": [
        "12\n",
        "marko \u00f6\n",
        "marko \n"
       ]
      }
     ],
     "prompt_number": 6
    },
    {
     "cell_type": "code",
     "collapsed": false,
     "input": [
      "abn = Abnum(hebrew)\n",
      "print abn.value('marko'), abn.value('\u05d4\u05d0\u05e8\u05e5')\n",
      "print abn.convert('marko'), abn.convert('\u05d4\u05d0\u05e8\u05e5')\n",
      "print abn.preprocess('marko'), abn.preprocess('\u05d4\u05d0\u05e8\u05e5')"
     ],
     "language": "python",
     "metadata": {},
     "outputs": [
      {
       "output_type": "stream",
       "stream": "stdout",
       "text": [
        "331 1106\n",
        "\u05de\u05d0\u05e8\u05db\u05e2 earY\n",
        "marko \u05d4\u05d0\u05e8\u05e5\n"
       ]
      }
     ],
     "prompt_number": 7
    },
    {
     "cell_type": "code",
     "collapsed": false,
     "input": [
      "abn = Abnum(greek)\n",
      "abn.char_table('\u03bf \u039b\u03bf\u03b3\u03bf\u03c2')"
     ],
     "language": "python",
     "metadata": {},
     "outputs": [
      {
       "html": [
        "<table class=\"char-table\"><caption>\u03bf \u039b\u03bf\u03b3\u03bf\u03c2</caption><thead><tr><th>\u03bf</th><th>&nbsp;</th><th>&nbsp;</th><th>\u039b</th><th>\u03bf</th><th>\u03b3</th><th>\u03bf</th><th>\u03c2</th></tr></thead><tfoot><tr><td colspan=\"1\">70 <sub>7</sub></td><td/><td/><td colspan=\"5\">373 <sub>4</sub></td></tr><tr><td colspan=\"9\" style=\"border-top: solid 1px #ddd\">443 <sub>11 / 2</sub></td></tr></tfoot><tbody><tr><td>o</td><td/><td class=\"empty-cell\"/><td>L</td><td>o</td><td>g</td><td>o</td><td>s</td></tr><tr><td>70</td><td/><td class=\"empty-cell\"/><td>30</td><td>70</td><td>3</td><td>70</td><td>200</td></tr></tbody></table>"
       ],
       "metadata": {},
       "output_type": "pyout",
       "prompt_number": 8,
       "text": [
        "<remarkuple.table.table at 0x1068564d0>"
       ]
      }
     ],
     "prompt_number": 8
    },
    {
     "cell_type": "code",
     "collapsed": false,
     "input": [
      "a, b, c = abn.char_table_data('\u03bf \u039b\u03bf\u03b3\u03bf\u03c2')"
     ],
     "language": "python",
     "metadata": {},
     "outputs": [],
     "prompt_number": 9
    },
    {
     "cell_type": "code",
     "collapsed": false,
     "input": [
      "a"
     ],
     "language": "python",
     "metadata": {},
     "outputs": [
      {
       "html": [
        "<div style=\"max-height:1000px;max-width:1500px;overflow:auto;\">\n",
        "<table border=\"1\" class=\"dataframe\">\n",
        "  <thead>\n",
        "    <tr style=\"text-align: right;\">\n",
        "      <th></th>\n",
        "      <th>letter</th>\n",
        "      <th>transliteration</th>\n",
        "      <th>value</th>\n",
        "      <th>word</th>\n",
        "    </tr>\n",
        "  </thead>\n",
        "  <tbody>\n",
        "    <tr>\n",
        "      <th>0</th>\n",
        "      <td> \u03bf</td>\n",
        "      <td> o</td>\n",
        "      <td>  70</td>\n",
        "      <td>     \u03bf</td>\n",
        "    </tr>\n",
        "    <tr>\n",
        "      <th>1</th>\n",
        "      <td> \u039b</td>\n",
        "      <td> L</td>\n",
        "      <td>  30</td>\n",
        "      <td> \u039b\u03bf\u03b3\u03bf\u03c2</td>\n",
        "    </tr>\n",
        "    <tr>\n",
        "      <th>2</th>\n",
        "      <td> \u03bf</td>\n",
        "      <td> o</td>\n",
        "      <td>  70</td>\n",
        "      <td> \u039b\u03bf\u03b3\u03bf\u03c2</td>\n",
        "    </tr>\n",
        "    <tr>\n",
        "      <th>3</th>\n",
        "      <td> \u03b3</td>\n",
        "      <td> g</td>\n",
        "      <td>   3</td>\n",
        "      <td> \u039b\u03bf\u03b3\u03bf\u03c2</td>\n",
        "    </tr>\n",
        "    <tr>\n",
        "      <th>4</th>\n",
        "      <td> \u03bf</td>\n",
        "      <td> o</td>\n",
        "      <td>  70</td>\n",
        "      <td> \u039b\u03bf\u03b3\u03bf\u03c2</td>\n",
        "    </tr>\n",
        "    <tr>\n",
        "      <th>5</th>\n",
        "      <td> \u03c2</td>\n",
        "      <td> s</td>\n",
        "      <td> 200</td>\n",
        "      <td> \u039b\u03bf\u03b3\u03bf\u03c2</td>\n",
        "    </tr>\n",
        "  </tbody>\n",
        "</table>\n",
        "</div>"
       ],
       "metadata": {},
       "output_type": "pyout",
       "prompt_number": 10,
       "text": [
        "  letter transliteration  value   word\n",
        "0      \u03bf               o     70      \u03bf\n",
        "1      \u039b               L     30  \u039b\u03bf\u03b3\u03bf\u03c2\n",
        "2      \u03bf               o     70  \u039b\u03bf\u03b3\u03bf\u03c2\n",
        "3      \u03b3               g      3  \u039b\u03bf\u03b3\u03bf\u03c2\n",
        "4      \u03bf               o     70  \u039b\u03bf\u03b3\u03bf\u03c2\n",
        "5      \u03c2               s    200  \u039b\u03bf\u03b3\u03bf\u03c2"
       ]
      }
     ],
     "prompt_number": 10
    },
    {
     "cell_type": "code",
     "collapsed": false,
     "input": [
      "b"
     ],
     "language": "python",
     "metadata": {},
     "outputs": [
      {
       "html": [
        "<div style=\"max-height:1000px;max-width:1500px;overflow:auto;\">\n",
        "<table border=\"1\" class=\"dataframe\">\n",
        "  <thead>\n",
        "    <tr style=\"text-align: right;\">\n",
        "      <th></th>\n",
        "      <th>value</th>\n",
        "      <th>characters</th>\n",
        "      <th>digital_sum</th>\n",
        "      <th>digital_root</th>\n",
        "    </tr>\n",
        "    <tr>\n",
        "      <th>word</th>\n",
        "      <th></th>\n",
        "      <th></th>\n",
        "      <th></th>\n",
        "      <th></th>\n",
        "    </tr>\n",
        "  </thead>\n",
        "  <tbody>\n",
        "    <tr>\n",
        "      <th>\u039b\u03bf\u03b3\u03bf\u03c2</th>\n",
        "      <td> 373</td>\n",
        "      <td> 5</td>\n",
        "      <td> 13</td>\n",
        "      <td> 4</td>\n",
        "    </tr>\n",
        "    <tr>\n",
        "      <th>\u03bf</th>\n",
        "      <td>  70</td>\n",
        "      <td> 1</td>\n",
        "      <td>  7</td>\n",
        "      <td> 7</td>\n",
        "    </tr>\n",
        "  </tbody>\n",
        "</table>\n",
        "</div>"
       ],
       "metadata": {},
       "output_type": "pyout",
       "prompt_number": 11,
       "text": [
        "       value  characters  digital_sum  digital_root\n",
        "word                                               \n",
        "\u039b\u03bf\u03b3\u03bf\u03c2    373           5           13             4\n",
        "\u03bf         70           1            7             7"
       ]
      }
     ],
     "prompt_number": 11
    },
    {
     "cell_type": "code",
     "collapsed": false,
     "input": [
      "c"
     ],
     "language": "python",
     "metadata": {},
     "outputs": [
      {
       "html": [
        "<div style=\"max-height:1000px;max-width:1500px;overflow:auto;\">\n",
        "<table border=\"1\" class=\"dataframe\">\n",
        "  <thead>\n",
        "    <tr style=\"text-align: right;\">\n",
        "      <th></th>\n",
        "      <th>characters</th>\n",
        "      <th>digital_root</th>\n",
        "      <th>digital_sum</th>\n",
        "      <th>phrase</th>\n",
        "      <th>value</th>\n",
        "    </tr>\n",
        "  </thead>\n",
        "  <tbody>\n",
        "    <tr>\n",
        "      <th>0</th>\n",
        "      <td> 6</td>\n",
        "      <td> 2</td>\n",
        "      <td> 11</td>\n",
        "      <td> \u03bf \u039b\u03bf\u03b3\u03bf\u03c2</td>\n",
        "      <td> 443</td>\n",
        "    </tr>\n",
        "  </tbody>\n",
        "</table>\n",
        "</div>"
       ],
       "metadata": {},
       "output_type": "pyout",
       "prompt_number": 12,
       "text": [
        "   characters  digital_root  digital_sum   phrase  value\n",
        "0           6             2           11  \u03bf \u039b\u03bf\u03b3\u03bf\u03c2    443"
       ]
      }
     ],
     "prompt_number": 12
    },
    {
     "cell_type": "code",
     "collapsed": false,
     "input": [
      "from IPython.core.display import HTML\n",
      "with open('abnum.css') as f:\n",
      "    css = f.read()\n",
      "HTML('<style>%s</style>' % css)"
     ],
     "language": "python",
     "metadata": {},
     "outputs": [
      {
       "html": [
        "<style>/* notebook unstylings */\n",
        "\n",
        ".rendered_html table,\n",
        ".rendered_html tr,\n",
        ".rendered_html th,\n",
        ".rendered_html td {\n",
        "    border: 0\n",
        "}\n",
        "\n",
        "/* general table styles */\n",
        "\n",
        "table {\n",
        "    color: black;\n",
        "    border: 0;\n",
        "    margin: 1.5em auto;\n",
        "    border-bottom: 1px solid #999;\n",
        "    border-collapse: collapse;\n",
        "    -webkit-border-top-left-radius: 8px;\n",
        "    -webkit-border-top-right-radius: 8px;\n",
        "    -moz-border-radius: 8px 8px 0 0;\n",
        "    border-radius: 8px 8px 0 0;\n",
        "    background: #444;\n",
        "}\n",
        "table caption {\n",
        "    margin-bottom: .75em;\n",
        "    text-align: center;\n",
        "    font-style: italic;\n",
        "}\n",
        "table td {\n",
        "    -moz-transition: background 0.2s linear;\n",
        "    -o-transition: background 0.2s linear;\n",
        "    transition: background 0.2s linear;\n",
        "    white-space: nowrap;\n",
        "    border-top: 1px solid #eee;\n",
        "    border-left: 1px solid #eee;\n",
        "    padding: 0.4em 0.8em;\n",
        "    background: #fff;\n",
        "}\n",
        "table tfoot,\n",
        "table tbody {\n",
        "    outline-offset: -1px;\n",
        "    outline: 1px solid #ccc;\n",
        "}\n",
        "\n",
        "table thead {}\n",
        "table thead th {\n",
        "    border: none;\n",
        "    border-bottom: 2px solid #eee;\n",
        "    background: transparent;\n",
        "    color: #fff;\n",
        "    text-align: center;\n",
        "    cursor: pointer;\n",
        "    padding: 0.4em 0.8em;\n",
        "}\n",
        "\n",
        "table tbody {}\n",
        "table tbody tr:hover td {\n",
        "    background: #ffe;\n",
        "    color: black;\n",
        "}\n",
        "table tbody tr td:hover {\n",
        "    background: #f5f6d2;\n",
        "}\n",
        "table tbody tr td:last-child {\n",
        "    text-align: center\n",
        "}\n",
        "\n",
        "table tbody tr th {\n",
        "    color: white;\n",
        "    padding: 0.4em 0.8em;\n",
        "    text-transform: uppercase\n",
        "}\n",
        "\n",
        "\n",
        "table tfoot {}\n",
        "table tfoot td {\n",
        "    padding: 0.4em 0.8em;\n",
        "    text-align: center;\n",
        "    font-style: italic;\n",
        "}\n",
        "\n",
        "table .right {\n",
        "    text-align: right\n",
        "}\n",
        "\n",
        "table tr.ok td {background-color: white;}\n",
        "table tr.fail td {background-color: red; color: white}\n",
        "table tr.error td {background-color: lightpink}\n",
        "table tbody.failures {}\n",
        "table tbody.errors {}\n",
        "\n",
        "table tbody tr th:first-child {background-color: #777; padding: 0 10px}\n",
        "\n",
        "/* custom table styles */\n",
        "\n",
        "table.char-table thead tr th, \n",
        "table.char-table tbody tr td, \n",
        "table.char-table tfoot tr td {text-align: center;}\n",
        "table.char-table tbody tr td.empty-cell {border-left: 1px solid #aaa}</style>"
       ],
       "metadata": {},
       "output_type": "pyout",
       "prompt_number": 13,
       "text": [
        "<IPython.core.display.HTML at 0x10688b310>"
       ]
      }
     ],
     "prompt_number": 13
    },
    {
     "cell_type": "code",
     "collapsed": false,
     "input": [],
     "language": "python",
     "metadata": {},
     "outputs": [],
     "prompt_number": 13
    }
   ],
   "metadata": {}
  }
 ]
}